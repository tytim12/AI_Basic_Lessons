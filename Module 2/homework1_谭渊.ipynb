{
 "cells": [
  {
   "cell_type": "markdown",
   "metadata": {},
   "source": [
    "同学们好，欢迎来到第二个模块-数据分析与机器学习！\n",
    "\n",
    "在这一模块，我们将概览数据分析的全貌，然后重点深入学习机器学习的经典算法的数学原理并且了解其python实现。相比于其他大数据课程，我们更加关注机器学习算法的数学基础。\n",
    "\n",
    "希望我们能够通过这两个月的学习帮大家打好机器学习的基础！"
   ]
  },
  {
   "cell_type": "markdown",
   "metadata": {},
   "source": [
    "## 一：矩阵的导数\n",
    "\n",
    "$a$和$b$是列向量，$X$是矩阵，$x$是向量\n",
    "\n",
    "求解下列导数\n",
    "- $\\frac{\\partial x^Tb}{\\partial x}$\n",
    "\n",
    "\n",
    "\n",
    "- $\\frac{\\partial a^T X b}{\\partial X}$\n",
    "\n",
    "\n",
    "\n",
    "- $\\frac{\\partial (Xb+c)D(Xb+c)}{\\partial X}$\n",
    "\n",
    "## 二：迹的导数\n",
    "定义：方阵$X$的迹（trace）的定义为矩阵对角线上元素之和，\n",
    "我们有\n",
    "$tr(X) = \\sum_i X_{ii} $。\n",
    "\n",
    "试求解下列导数\n",
    "- $\\frac{\\partial tr(X)}{\\partial X}$\n",
    "\n",
    "\n",
    "- $\\frac{\\partial tr(XA)}{\\partial X}$\n"
   ]
  },
  {
   "cell_type": "code",
   "execution_count": null,
   "metadata": {},
   "outputs": [],
   "source": []
  },
  {
   "cell_type": "markdown",
   "metadata": {},
   "source": [
    "### <font color = red>**解题**</font>  \n",
    "### 一、矩阵倒数\n",
    "\n",
    "- 第一题：    \n",
    "\n",
    "解： $\\frac{\\partial x^Tb}{\\partial x}$\n",
    "\n",
    "由于：$x^Tb = b^Tx = \\sum b_i x_i$\n",
    "\n",
    "并且：$\\frac{\\partial}{\\partial x_j} \\Sigma b_i x_i = b_j$\n",
    "\n",
    "所以：$\\frac{\\partial x^Tb}{\\partial x} = \\frac{\\partial b^Tx}{\\partial x} = b^T$\n",
    "\n",
    "</br>   \n",
    "</br>  \n",
    "- 第二题：  \n",
    "解：$\\frac{\\partial a^T X b}{\\partial X} = ab^T$\n",
    "\n",
    "\n",
    "\n",
    "</br>   \n",
    "</br>   \n",
    "- 第三题：  \n",
    "解： $\\frac{\\partial (Xb+c)^T D(Xb+c)}{\\partial X}$\n",
    "\n",
    "= $\\frac{\\partial}{\\partial X} (b^T X^T DXb + c^T DXb + B^T X^T Dc + c^TDc)$\n",
    "\n",
    "1. $\\frac{\\partial}{\\partial X} (b^T X^T DXb) = b^T D^T X^T b^T$\n",
    "\n",
    "2. $\\frac{\\partial}{\\partial X} (c^TD Xb) = \\frac{\\partial}{\\partial X} ((Dc)^T X (b)) = b D^T c$\n",
    "\n",
    "3. $\\frac{\\partial}{\\partial X} (b^T X^T Dc) = ((b^T) X^T (Dc)) = bc^T D^T$\n",
    "\n",
    "4. $\\frac{\\partial}{\\partial X} (c^TDc) = 0 $\n",
    "\n",
    "\n",
    "∴ = $b^T D^T X^T b^T + b D^T c + bc^T D^T$  \n",
    " = $((D + D^T)(Xb + c)b^T)^T$\n",
    "\n"
   ]
  },
  {
   "cell_type": "markdown",
   "metadata": {},
   "source": [
    "### 二、迹的导数  \n",
    "\n",
    "- 第一题：  \n",
    "$\\frac{\\partial tr(X)}{\\partial X}$\n",
    "\n",
    "= [ ∑ (x_ii / x_11), ∑ (x_ii / x_12), ∑ (x_ii / x_13) ..... ∑ (x_ii / x_1n)\n",
    "\n",
    "∑ (x_ii / x_21), ∑ (x_ii / x_22), ∑ (x_ii / x_23) ...... ∑ (x_ii / x_2n)\n",
    "...\n",
    "\n",
    "∑ (x_ii / x_n1), ∑ (x_ii / x_n2), ∑ (x_ii / x_n3) ...... ∑ (x_ii / x_nn)\n",
    "]\n",
    "\n",
    "= I\n",
    "\n",
    "\n",
    "</br>  \n",
    "- 第二题：  \n",
    "\n",
    "$\\frac{\\partial tr(XA)}{\\partial X}$\n",
    "\n",
    "= $\\frac {\\partial}{\\partial X_{i,j}} \\Sigma_{k} X_{k,.} A_{.,k}$\n",
    "\n",
    "= $\\frac {\\partial}{\\partial X_{i,j}} X_{i,.} A_{.,i}$\n",
    "\n",
    "= $A_{j,i}$\n",
    "\n",
    "所以：$\\frac{\\partial tr(XA)}{\\partial X} = A^T$"
   ]
  },
  {
   "cell_type": "code",
   "execution_count": null,
   "metadata": {},
   "outputs": [],
   "source": []
  },
  {
   "cell_type": "markdown",
   "metadata": {},
   "source": [
    "# 简化版作业（如果对上面的东西有些生疏的话，不如先从这个地方开始）\n",
    "这里令X是2x2的矩阵\n",
    "```\n",
    "A = [1, 4,\n",
    "     7, 9]\n",
    "    \n",
    "a = [2,\n",
    "     3]\n",
    "\n",
    "b = [1,\n",
    "     1]\n",
    "\n",
    "c = [2,\n",
    "     5]\n",
    "```\n",
    "重新写上面那道题"
   ]
  },
  {
   "cell_type": "markdown",
   "metadata": {},
   "source": [
    "# 关于numpy函数的当地( in-place )修改"
   ]
  },
  {
   "cell_type": "code",
   "execution_count": 16,
   "metadata": {},
   "outputs": [],
   "source": [
    "import numpy as np\n",
    "np.random.seed(1)"
   ]
  },
  {
   "cell_type": "code",
   "execution_count": 22,
   "metadata": {},
   "outputs": [
    {
     "name": "stdout",
     "output_type": "stream",
     "text": [
      "[-2.3015387   1.74481176 -0.7612069   0.3190391  -0.24937038]\n"
     ]
    }
   ],
   "source": [
    "# 首先创建array\n",
    "A = np.random.randn(5)\n",
    "print(A)"
   ]
  },
  {
   "cell_type": "code",
   "execution_count": 23,
   "metadata": {},
   "outputs": [
    {
     "name": "stdout",
     "output_type": "stream",
     "text": [
      "A [-2.3015387   1.74481176 -0.7612069   0.3190391  -0.24937038]\n",
      "B [       nan 1.32091323        nan 0.56483546        nan]\n"
     ]
    },
    {
     "name": "stderr",
     "output_type": "stream",
     "text": [
      "C:\\Users\\wangz\\AppData\\Local\\Continuum\\anaconda3\\lib\\site-packages\\ipykernel_launcher.py:2: RuntimeWarning: invalid value encountered in sqrt\n",
      "  \n"
     ]
    }
   ],
   "source": [
    "# 然后直接调用 np.sqrt\n",
    "B = np.sqrt(A)\n",
    "print(\"A\", A)\n",
    "print(\"B\", B)\n",
    "# 这里会出现警告（warning），出现了负数的根号，但不会强行停止运行"
   ]
  },
  {
   "cell_type": "markdown",
   "metadata": {},
   "source": [
    "# 我们如果inplace进行修改，实际上是要如此调用函数\n",
    "参考numpy的文档 https://docs.scipy.org/doc/numpy/reference/generated/numpy.sqrt.html\n",
    "我们注意到如果是把结果存在原来的变量，就应该传入out变量，这个实际是inplace操作\n",
    "## numpy.sqrt\n",
    "```\n",
    "numpy.sqrt(x, /, out=None, *, where=True, casting='same_kind', order='K', dtype=None, subok=True[, signature, extobj]) = <ufunc 'sqrt'>\n",
    "Return the non-negative square-root of an array, element-wise.\n",
    "\n",
    "Parameters:\t\n",
    "    x : array_like\n",
    "        The values whose square-roots are required.\n",
    "\n",
    "   out : ndarray, None, or tuple of ndarray and None, optional\n",
    "        A location into which the result is stored. If provided, it must have a shape that the inputs broadcast to. If not provided or None, a freshly-allocated array is returned. A tuple (possible only as a keyword argument) must have length equal to the number of outputs.\n",
    "\n",
    "   where : array_like, optional\n",
    "        This condition is broadcast over the input. At locations where the condition is True, the out array will be set to the ufunc result. Elsewhere, the out array will retain its original value. Note that if an uninitialized out array is created via the default out=None, locations within it where the condition is False will remain uninitialized.\n",
    "\n",
    "**kwargs\n",
    "For other keyword-only arguments, see the ufunc docs.\n",
    "\n",
    "Returns:\t\n",
    "    y : ndarray\n",
    "        An array of the same shape as x, containing the positive square-root of each element in x. If any element in x is complex, a complex array is returned (and the square-roots of negative reals are calculated). If all of the elements in x are real, so is y, with negative elements returning nan. If out was provided, y is a reference to it. This is a scalar if x is a scalar.\n",
    "```\n"
   ]
  },
  {
   "cell_type": "code",
   "execution_count": 24,
   "metadata": {},
   "outputs": [
    {
     "name": "stdout",
     "output_type": "stream",
     "text": [
      "A [       nan 1.32091323        nan 0.56483546        nan]\n",
      "B [       nan 1.14930989        nan 0.75155536        nan]\n"
     ]
    },
    {
     "name": "stderr",
     "output_type": "stream",
     "text": [
      "C:\\Users\\wangz\\AppData\\Local\\Continuum\\anaconda3\\lib\\site-packages\\ipykernel_launcher.py:2: RuntimeWarning: invalid value encountered in sqrt\n",
      "  \n"
     ]
    }
   ],
   "source": [
    "# 首先当地修改A\n",
    "np.sqrt(A, out=A)\n",
    "print(\"A\", A)\n",
    "np.sqrt(B, B)\n",
    "print(\"B\", B)"
   ]
  }
 ],
 "metadata": {
  "kernelspec": {
   "display_name": "Python 3",
   "language": "python",
   "name": "python3"
  },
  "language_info": {
   "codemirror_mode": {
    "name": "ipython",
    "version": 3
   },
   "file_extension": ".py",
   "mimetype": "text/x-python",
   "name": "python",
   "nbconvert_exporter": "python",
   "pygments_lexer": "ipython3",
   "version": "3.7.3"
  }
 },
 "nbformat": 4,
 "nbformat_minor": 2
}
