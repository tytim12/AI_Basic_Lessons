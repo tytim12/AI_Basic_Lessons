{
 "cells": [
  {
   "cell_type": "markdown",
   "metadata": {},
   "source": [
    "## 一：矩阵的导数\n",
    "\n",
    "$a$和$b$是列向量，$X$是矩阵，$x$是向量\n",
    "\n",
    "求解下列导数\n",
    "- $\\frac{\\partial x^Tb}{\\partial x}$\n",
    "\n",
    "\n",
    "\n",
    "- $\\frac{\\partial a^T X b}{\\partial X}$\n",
    "\n",
    "\n",
    "\n",
    "- $\\frac{\\partial (Xb+c)D(Xb+c)}{\\partial X}$\n",
    "\n",
    "## 二：迹的导数\n",
    "定义：方阵$X$的迹（trace）的定义为矩阵对角线上元素之和，\n",
    "我们有\n",
    "$tr(X) = \\sum_i X_{ii} $。\n",
    "\n",
    "试求解下列导数\n",
    "- $\\frac{\\partial tr(X)}{\\partial X}$\n",
    "\n",
    "\n",
    "- $\\frac{\\partial tr(XA)}{\\partial X}$\n"
   ]
  },
  {
   "cell_type": "code",
   "execution_count": null,
   "metadata": {},
   "outputs": [],
   "source": []
  },
  {
   "cell_type": "markdown",
   "metadata": {},
   "source": [
    "## <font color = red>**解题**</font>\n",
    "### 一、矩阵倒数\n",
    "\n",
    "- 第一题：    \n",
    "\n",
    "解： $\\frac{\\partial x^Tb}{\\partial x}$\n",
    "\n",
    "由于：$x^Tb = b^Tx = \\sum b_i x_i$\n",
    "\n",
    "并且：$\\frac{\\partial}{\\partial x_j} \\Sigma b_i x_i = b_j$\n",
    "\n",
    "所以：$\\frac{\\partial x^Tb}{\\partial x} = \\frac{\\partial b^Tx}{\\partial x} = b^T$\n",
    "\n",
    "\n",
    "</br>  \n",
    "\n",
    "- 第二题：  \n",
    "解：$\\frac{\\partial a^T X b}{\\partial X} = \\frac{\\partial X^T a b}{\\partial X} = (ab)^T$\n",
    "\n",
    "</br>   \n",
    "  \n",
    "\n",
    "- 第三题：  \n",
    "解： $\\frac{\\partial (Xb+c)^T D(Xb+c)}{\\partial X}$\n",
    "\n",
    "= $\\frac{\\partial}{\\partial X} (b^T X^T DXb + c^T DXb + B^T X^T Dc + c^TDc)$\n",
    "\n",
    "1. $\\frac{\\partial}{\\partial X} (b^T X^T DXb) = b^T X^T (D+D^T)b^T$\n",
    "\n",
    "2. $\\frac{\\partial}{\\partial X} (c^TD Xb) = \\frac{\\partial}{\\partial X} ((c^TD) X (b)) = c^T Db^T$\n",
    "\n",
    "3. $\\frac{\\partial}{\\partial X} (b^T X^T Dc) = ((b^T) X^T (Dc)) = Dc b^T$\n",
    "\n",
    "4. $\\frac{\\partial}{\\partial X} (c^TDc) = 0 $\n",
    "\n",
    "\n",
    "∴ = $b^T X^T (D+D^T)b^T + C^T Db^T + DC b^T$  \n",
    "  = $b^T X^T D b^T + b^T X^T D^T b^T + C^T D b^T + DCb^T$  \n",
    "  = $(b^T X^T + C^T)Db^T + (b^T X^T D^T + DC) b^T$  \n",
    "  = $(Xb + C)^T Db^T + (Xb+C)^T D^T b^T$  \n",
    "\n"
   ]
  },
  {
   "cell_type": "markdown",
   "metadata": {},
   "source": [
    "### 二、迹的导数  \n",
    "\n",
    "- 第一题：  \n",
    "$\\frac{\\partial tr(X)}{\\partial X}$\n",
    "\n",
    "= [ ∑ (x_ii / x_11), ∑ (x_ii / x_12), ∑ (x_ii / x_13) ..... ∑ (x_ii / x_1n)\n",
    "\n",
    "∑ (x_ii / x_21), ∑ (x_ii / x_22), ∑ (x_ii / x_23) ...... ∑ (x_ii / x_2n)\n",
    "...\n",
    "\n",
    "∑ (x_ii / x_n1), ∑ (x_ii / x_n2), ∑ (x_ii / x_n3) ...... ∑ (x_ii / x_nn)\n",
    "]\n",
    "\n",
    "= I\n",
    "\n",
    "</br>  \n",
    "</br>  \n",
    "\n",
    "- 第二题：   \n",
    "$\\frac{\\partial tr(XA)}{\\partial X} = \\frac{\\partial Scalar}{\\partial Matrix} = A^T$  \n",
    "(根据矩阵倒数第一题的公式可得上述答案)"
   ]
  },
  {
   "cell_type": "code",
   "execution_count": null,
   "metadata": {},
   "outputs": [],
   "source": []
  },
  {
   "cell_type": "markdown",
   "metadata": {},
   "source": [
    "# 简化版作业（如果对上面的东西有些生疏的话，不如先从这个地方开始）\n",
    "这里令X是2x2的矩阵\n",
    "```\n",
    "A = [1, 4,\n",
    "     7, 9]\n",
    "    \n",
    "a = [2,\n",
    "     3]\n",
    "\n",
    "b = [1,\n",
    "     1]\n",
    "\n",
    "c = [2,\n",
    "     5]\n",
    "```\n",
    "重新写上面那道题"
   ]
  }
 ],
 "metadata": {
  "kernelspec": {
   "display_name": "Python 3",
   "language": "python",
   "name": "python3"
  },
  "language_info": {
   "codemirror_mode": {
    "name": "ipython",
    "version": 3
   },
   "file_extension": ".py",
   "mimetype": "text/x-python",
   "name": "python",
   "nbconvert_exporter": "python",
   "pygments_lexer": "ipython3",
   "version": "3.7.4"
  }
 },
 "nbformat": 4,
 "nbformat_minor": 4
}
