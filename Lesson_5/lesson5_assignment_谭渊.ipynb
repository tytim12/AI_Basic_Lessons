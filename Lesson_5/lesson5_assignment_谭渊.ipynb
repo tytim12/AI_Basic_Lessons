{
 "cells": [
  {
   "cell_type": "markdown",
   "metadata": {},
   "source": [
    "**理论部分**\n",
    "\n",
    "1. 验证多重继承的属性规则，请选择\n",
    "- 就近原则\n",
    "- 随机原则\n",
    "- 类定义的先后原则"
   ]
  },
  {
   "cell_type": "code",
   "execution_count": 1,
   "metadata": {},
   "outputs": [
    {
     "name": "stdout",
     "output_type": "stream",
     "text": [
      "A0\n",
      "1\n"
     ]
    }
   ],
   "source": [
    "class A0:\n",
    "    name = 'A0'\n",
    "    \n",
    "class A2(A0):\n",
    "    num = 2\n",
    "    \n",
    "class A1:\n",
    "    num = 1\n",
    "    \n",
    "class A3:\n",
    "    name = 'A3'\n",
    "    \n",
    "class A4(A1,A2,A3):\n",
    "    pass\n",
    " \n",
    "ins = A4()\n",
    "print(ins.name) # 类定义的先后原则\n",
    "print(ins.num) # 就近原则"
   ]
  },
  {
   "cell_type": "code",
   "execution_count": null,
   "metadata": {},
   "outputs": [],
   "source": []
  },
  {
   "cell_type": "markdown",
   "metadata": {},
   "source": [
    "**编程实践部分**"
   ]
  },
  {
   "cell_type": "markdown",
   "metadata": {},
   "source": [
    "1. 完成ATM的类实现  \n",
    "将第二次课程的ATM机器改写成类实现  \n",
    "\n",
    "2. 练习会先提供一个李靖类，用以记录人物角色的战斗力。需要你创建一个子类哪吒类，提供属性和参数的修改。  \n",
    "要求： 在哪吒的初始化方法中，默认添加`['混天绫', '乾坤圈']` 两个装备,以及初始化战斗力为50.\n",
    "\n"
   ]
  },
  {
   "cell_type": "markdown",
   "metadata": {},
   "source": [
    "#### 作业2 - ATM类实现"
   ]
  },
  {
   "cell_type": "markdown",
   "metadata": {},
   "source": [
    "**功能清单**  \n",
    "1. 菜单\n",
    "2. 查询余额\n",
    "3. 存款\n",
    "4. 取款\n",
    "5. 退出\n"
   ]
  },
  {
   "cell_type": "code",
   "execution_count": 13,
   "metadata": {},
   "outputs": [
    {
     "name": "stdout",
     "output_type": "stream",
     "text": [
      "\n",
      "===========\n",
      "请选择操作\n",
      "1. 查询余额\n",
      "2. 存款\n",
      "3. 取款\n",
      "4. 退出\n",
      "===========\n",
      "\n",
      "\n"
     ]
    },
    {
     "name": "stdin",
     "output_type": "stream",
     "text": [
      "请选择需要的服务： 4\n"
     ]
    },
    {
     "name": "stdout",
     "output_type": "stream",
     "text": [
      "已退出，很高兴为您服务！\n"
     ]
    }
   ],
   "source": [
    "class ATM:\n",
    "    \n",
    "    balance = 20\n",
    "    \n",
    "    def __init__(self):\n",
    "        self.balance = ATM.balance\n",
    "        #self.action = action\n",
    "    \n",
    "    def menu(self):\n",
    "        info = \"\"\"\n",
    "===========\n",
    "请选择操作\n",
    "1. 查询余额\n",
    "\n",
    "2. 存款\n",
    "3. 取款\n",
    "4. 退出\n",
    "===========\n",
    "\n",
    "\"\"\"\n",
    "        action = 0\n",
    "        while True:\n",
    "            \n",
    "            print(info)\n",
    "            \n",
    "            try:\n",
    "                action = int(input(\"请选择需要的服务：\"))\n",
    "            except:\n",
    "                action = int(input(\"输入有误，请正确选择需要的服务：\"))\n",
    "            \n",
    "            if action == 1:\n",
    "                self.check_balance()\n",
    "            elif action == 2:\n",
    "                self.save_money()\n",
    "            elif action == 3:\n",
    "                self.deposite()\n",
    "            elif action == 4:\n",
    "                print(\"已退出，很高兴为您服务！\")\n",
    "                break\n",
    "            else:\n",
    "                pass\n",
    "        \n",
    "    # 打印当前余额\n",
    "    def check_balance(self):\n",
    "        print(\"您的余额是{}元\".format(self.balance))\n",
    "\n",
    "    # 存入银行，并打印当前 balance\n",
    "    def save_money(self):\n",
    "        try:\n",
    "            save = int(input(\"请输入存款金额：\"))\n",
    "        except:\n",
    "            save = int(input(\"输入金额有误，请正确输入存款金额：\"))\n",
    "        self.balance += save\n",
    "        print(\"已存款{saving}元，当前账户余额为{bal}元\".format(saving = save, bal = self.balance))\n",
    "    \n",
    "    # 取款\n",
    "    def deposite(self):\n",
    "        try:\n",
    "            dps = int(input(\"请输入取款金额：\"))\n",
    "        except:\n",
    "            dps = int(input(\"输入金额有误，请正确输入取款金额：\"))\n",
    "        if dps < balance:\n",
    "            print(\"余额不足...\")\n",
    "        else:\n",
    "            self.balance -= dps\n",
    "            print(\"已取出{}元，当前账户余额剩余{}元\".format(dps, self.balance))\n",
    "    \n",
    "    \n",
    "a = ATM()\n",
    "a.menu()"
   ]
  },
  {
   "cell_type": "code",
   "execution_count": null,
   "metadata": {},
   "outputs": [],
   "source": []
  },
  {
   "cell_type": "code",
   "execution_count": null,
   "metadata": {},
   "outputs": [],
   "source": []
  },
  {
   "cell_type": "markdown",
   "metadata": {},
   "source": [
    "#### <font color = blue>作业3 - 李靖哪吒类的继承练习</font>  \n",
    "2. 练习会先提供一个李靖类，用以记录人物角色的战斗力。需要你创建一个子类哪吒类，提供属性和参数的修改。  \n",
    "要求： 在哪吒的初始化方法中，默认添加`['混天绫', '乾坤圈']` 两个装备,以及初始化战斗力为50."
   ]
  },
  {
   "cell_type": "code",
   "execution_count": 25,
   "metadata": {},
   "outputs": [
    {
     "name": "stdout",
     "output_type": "stream",
     "text": [
      "李靖的装备： []\n",
      "李靖的战斗力： 10\n",
      "李靖的装备： ['七宝玲珑塔']\n",
      "李靖的战斗力： 60\n"
     ]
    }
   ],
   "source": [
    "# 代码不用修改，读懂后运行即可。\n",
    "class Lijing: # 李靖\n",
    "    # 初始化函数，为每个实例创建4个参数（其中后3个参数有默认值）\n",
    "    def __init__(self, name, weapons=[], power=10): \n",
    "        self.name = name\n",
    "        self.weapons = weapons\n",
    "        self.power = power\n",
    "\n",
    "    def count_fight(self, weapon, weapon_power):\n",
    "        self.weapons.append(weapon)\n",
    "        self.power += weapon_power  # 总战力=武器战力之和\n",
    "\n",
    "lijing = Lijing('李靖')\n",
    "print(\"李靖的装备：\", lijing.weapons)\n",
    "print(\"李靖的战斗力：\", lijing.power)\n",
    "lijing.count_fight('七宝玲珑塔', 50)  # 七宝玲珑塔 战力 50\n",
    "print(\"李靖的装备：\", lijing.weapons)\n",
    "print(\"李靖的战斗力：\", lijing.power)\n"
   ]
  },
  {
   "cell_type": "code",
   "execution_count": 2,
   "metadata": {},
   "outputs": [
    {
     "name": "stdout",
     "output_type": "stream",
     "text": [
      "===== 初始化后的数据 =====\n",
      "李靖的武器： []\n",
      "哪吒的武器： ['混天绫', '乾坤圈']\n",
      "李靖的战力： 10\n",
      "哪吒的战力： 50\n",
      "\n",
      "===== 添加武器后的数据 =====\n",
      "李靖的武器： ['七宝玲珑塔']\n",
      "哪吒的武器： ['混天绫', '乾坤圈', '火尖枪']\n",
      "李靖的战力： 60\n",
      "哪吒的战力： 90\n"
     ]
    }
   ],
   "source": [
    "class Lijing: # 李靖\n",
    "    # 初始化函数，为每个实例创建4个参数（其中后3个参数有默认值）\n",
    "    def __init__(self, name, weapons=[], power=10): \n",
    "        self.name = name\n",
    "        self.weapons = weapons\n",
    "        self.power = power\n",
    "\n",
    "    def count_fight(self, weapon, weapon_power):\n",
    "        self.weapons.append(weapon)\n",
    "        self.power += weapon_power  # 总战力=武器战力之和\n",
    "        \n",
    "# your code here        \n",
    "# 请你完成子类的定制（包括初始化方法和count_fight函数）\n",
    "class Nezha(Lijing): # 哪吒\n",
    "    def __init__(self, name, weapons = ['混天绫', '乾坤圈'], power = 50):\n",
    "        self.name = name\n",
    "        self.weapons = weapons\n",
    "        self.power = power\n",
    "        \n",
    "        \n",
    "    def count_fight(self, weapons, power):\n",
    "        Lijing.count_fight(self, weapons, power)\n",
    "        \n",
    "    \n",
    "# 通过两个实例，完成子类和父类的对比（可自行验证）\n",
    "lijing = Lijing('李靖')\n",
    "nezha = Nezha('哪吒')\n",
    "print(\"===== 初始化后的数据 =====\")\n",
    "print(\"李靖的武器：\", lijing.weapons)\n",
    "print(\"哪吒的武器：\", nezha.weapons)\n",
    "print(\"李靖的战力：\", lijing.power)\n",
    "print(\"哪吒的战力：\", nezha.power)\n",
    "print()\n",
    "print(\"===== 添加武器后的数据 =====\")\n",
    "lijing.count_fight('七宝玲珑塔', 50)  # 七宝玲珑塔 战力 50\n",
    "nezha.count_fight('火尖枪', 40)  # 火尖枪 战力 40\n",
    "print(\"李靖的武器：\", lijing.weapons)\n",
    "print(\"哪吒的武器：\", nezha.weapons)\n",
    "print(\"李靖的战力：\", lijing.power)\n",
    "print(\"哪吒的战力：\", nezha.power)"
   ]
  },
  {
   "cell_type": "code",
   "execution_count": null,
   "metadata": {},
   "outputs": [],
   "source": []
  },
  {
   "cell_type": "code",
   "execution_count": null,
   "metadata": {},
   "outputs": [],
   "source": []
  }
 ],
 "metadata": {
  "kernelspec": {
   "display_name": "Python 3",
   "language": "python",
   "name": "python3"
  },
  "language_info": {
   "codemirror_mode": {
    "name": "ipython",
    "version": 3
   },
   "file_extension": ".py",
   "mimetype": "text/x-python",
   "name": "python",
   "nbconvert_exporter": "python",
   "pygments_lexer": "ipython3",
   "version": "3.7.4"
  }
 },
 "nbformat": 4,
 "nbformat_minor": 4
}
